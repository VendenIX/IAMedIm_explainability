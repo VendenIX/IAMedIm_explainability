{
 "cells": [
  {
   "metadata": {},
   "cell_type": "markdown",
   "source": "### Importation des librairies :",
   "id": "a4d86359811be11f"
  },
  {
   "metadata": {
    "ExecuteTime": {
     "end_time": "2024-09-23T10:14:26.528945Z",
     "start_time": "2024-09-23T10:14:20.646848Z"
    }
   },
   "cell_type": "code",
   "source": [
    "## Pytorch - Pytorch Lightning\n",
    "import torch \n",
    "import torch.nn as nn\n",
    "import lightning as L\n",
    "from lightning.pytorch.callbacks import ModelCheckpoint, EarlyStopping\n",
    "import timm\n",
    "\n",
    "## Métrique \n",
    "from torchmetrics import Accuracy\n",
    "\n",
    "## Matrice de confusion\n",
    "import matplotlib.pyplot as plt\n",
    "import seaborn as sns \n",
    "from sklearn.metrics import confusion_matrix\n",
    "\n",
    "## Gestion des données\n",
    "from data.MRIDataModule_Alexandre import MRIDataModule"
   ],
   "id": "initial_id",
   "outputs": [],
   "execution_count": 1
  },
  {
   "metadata": {},
   "cell_type": "markdown",
   "source": "### Définition du modèle :",
   "id": "118f5495d517940e"
  },
  {
   "metadata": {
    "ExecuteTime": {
     "end_time": "2024-09-23T10:14:26.560609Z",
     "start_time": "2024-09-23T10:14:26.528945Z"
    }
   },
   "cell_type": "code",
   "source": [
    "class MyModel(L.LightningModule):\n",
    "    def __init__(self, \n",
    "                 lr: float = 0.001, \n",
    "                 weight_decay: float = 1e-4, \n",
    "                 num_class: int = 1, \n",
    "                 *args, \n",
    "                 **kwargs):\n",
    "        \n",
    "        super().__init__()\n",
    "        self.save_hyperparameters()\n",
    "\n",
    "        ## Utilisation du modèle pré-entraîné ResNet50 et de la librairie Timm pour la gestion des images en noir et blanc (1 canal)\n",
    "        self.model = timm.create_model(\n",
    "            'resnet51q.ra2_in1k',\n",
    "            pretrained=True,\n",
    "            pretrained_cfg_overlay=dict(file='../../../../Timm/resnet51q.safetensors'),\n",
    "            in_chans=1,\n",
    "            num_classes=self.hparams.num_class,\n",
    "        )\n",
    "        \n",
    "        ## Modification de la dernière couche pour une classification binaire\n",
    "        in_features = self.model.get_classifier().in_features\n",
    "        self.model.fc = nn.Linear(in_features, 1)\n",
    "        \n",
    "        ## Loss : BinaryCrossEntropy pour une classification binaire\n",
    "        self.loss_train = nn.BCEWithLogitsLoss()\n",
    "        self.loss_val = nn.BCEWithLogitsLoss()\n",
    "        self.loss_test = nn.BCEWithLogitsLoss()\n",
    "        \n",
    "        ## Accuracy : pour la classification binaire\n",
    "        self.train_acc = Accuracy(task=\"binary\")\n",
    "        self.valid_acc = Accuracy(task=\"binary\")\n",
    "        self.test_acc = Accuracy(task=\"binary\")\n",
    "        \n",
    "        self.train_labels = []\n",
    "        self.train_preds = []\n",
    " \n",
    "    def forward(self, x):\n",
    "        logits = self.model(x)\n",
    "        return logits\n",
    "    \n",
    "    def training_step(self, batch, batch_idx):\n",
    "        x, y = batch\n",
    "        x, y = x.to(self.device), y.to(self.device).float()  \n",
    "        y_hat = self(x)\n",
    "        loss = self.loss_train(y_hat.squeeze(), y)\n",
    "        preds = torch.sigmoid(y_hat.squeeze()) >= 0.5  \n",
    "        acc = self.train_acc(preds, y.int())\n",
    "        self.log('train/loss', loss, prog_bar=True, on_step=True, on_epoch=True, sync_dist=True)\n",
    "        self.log('train/acc', acc, prog_bar=True, on_step=True, on_epoch=True, sync_dist=True)\n",
    " \n",
    "        self.train_labels.append(y.cpu())\n",
    "        self.train_preds.append(preds.cpu())\n",
    "        return loss\n",
    "    \n",
    "    def on_epoch_end(self):\n",
    "        all_labels = torch.cat(self.train_labels)\n",
    "        all_preds = torch.cat(self.train_preds)\n",
    "        cm = confusion_matrix(all_labels, all_preds, labels=[0, 1])\n",
    "        self.log_confusion_matrix(cm)\n",
    "        self.train_labels = []\n",
    "        self.train_preds = []\n",
    "        \n",
    "    def validation_step(self, batch, batch_idx):\n",
    "        x, y = batch\n",
    "        x, y = x.to(self.device), y.to(self.device).float()\n",
    "        preds = self(x)\n",
    "        loss = self.loss_val(preds.squeeze(), y)\n",
    "        preds = torch.sigmoid(preds.squeeze()) >= 0.5\n",
    "        acc = self.valid_acc(preds, y.int())\n",
    "        self.log('val/loss', loss, prog_bar=True, on_step=False, on_epoch=True, sync_dist=True)\n",
    "        self.log('val/acc', acc, prog_bar=True, on_step=False, on_epoch=True, sync_dist=True)\n",
    "        return {'val_loss': loss}\n",
    "\n",
    "    def test_step(self, batch, batch_idx):\n",
    "        x, y = batch\n",
    "        x, y = x.to(self.device), y.to(self.device).float()\n",
    "        preds = self(x)\n",
    "        loss = self.loss_test(preds.squeeze(), y)\n",
    "        preds = torch.sigmoid(preds.squeeze()) >= 0.5\n",
    "        acc = self.test_acc(preds, y.int())\n",
    "        self.log('test/loss', loss, prog_bar=True, on_step=False, on_epoch=True, sync_dist=True)\n",
    "        self.log('test/acc', acc, prog_bar=True, on_step=False, on_epoch=True, sync_dist=True)\n",
    "        return {'test_loss': loss}\n",
    " \n",
    "    def configure_optimizers(self):\n",
    "        return torch.optim.AdamW(self.parameters(), lr=self.hparams.lr, weight_decay=self.hparams.weight_decay)"
   ],
   "id": "29f319e7b9317fd8",
   "outputs": [],
   "execution_count": 2
  },
  {
   "metadata": {
    "ExecuteTime": {
     "end_time": "2024-09-23T10:14:26.607953Z",
     "start_time": "2024-09-23T10:14:26.560609Z"
    }
   },
   "cell_type": "code",
   "source": [
    "checkpoint_callback = ModelCheckpoint(\n",
    "    monitor=\"val/loss\",\n",
    "    dirpath=\"checkpoints3/\",\n",
    "    filename=\"best_model\",\n",
    "    save_top_k=1,\n",
    "    mode=\"min\",\n",
    ")\n",
    "early_stopping_callbak = EarlyStopping(\n",
    "    monitor=\"val/loss\",\n",
    "    mode=\"min\",\n",
    "    patience=50,\n",
    "    verbose=True\n",
    ")\n",
    "trainer = L.Trainer(\n",
    "    callbacks=[checkpoint_callback, early_stopping_callbak],\n",
    "    max_epochs=500,\n",
    "    accelerator='gpu',\n",
    "    devices=1\n",
    ")"
   ],
   "id": "4470215d6a0e67de",
   "outputs": [
    {
     "name": "stderr",
     "output_type": "stream",
     "text": [
      "GPU available: True (cuda), used: True\n",
      "TPU available: False, using: 0 TPU cores\n",
      "HPU available: False, using: 0 HPUs\n",
      "C:\\Users\\M105411\\AppData\\Roaming\\Python\\Python310\\site-packages\\lightning\\pytorch\\trainer\\connectors\\logger_connector\\logger_connector.py:75: Starting from v1.9.0, `tensorboardX` has been removed as a dependency of the `lightning.pytorch` package, due to potential conflicts with other packages in the ML ecosystem. For this reason, `logger=True` will use `CSVLogger` as the default logger, unless the `tensorboard` or `tensorboardX` packages are found. Please `pip install lightning[extra]` or one of them to enable TensorBoard support by default\n"
     ]
    }
   ],
   "execution_count": 3
  },
  {
   "metadata": {
    "ExecuteTime": {
     "end_time": "2024-09-23T10:14:27.220847Z",
     "start_time": "2024-09-23T10:14:26.607953Z"
    }
   },
   "cell_type": "code",
   "source": "model = MyModel()",
   "id": "c9dcac0c6e65104f",
   "outputs": [],
   "execution_count": 4
  },
  {
   "metadata": {},
   "cell_type": "markdown",
   "source": "### Chargement des données et répartion en train, val, test :",
   "id": "811ee486fbf6dd84"
  },
  {
   "metadata": {
    "ExecuteTime": {
     "end_time": "2024-09-23T10:14:31.756312Z",
     "start_time": "2024-09-23T10:14:27.220847Z"
    }
   },
   "cell_type": "code",
   "source": [
    "db_path = '../../../../data'\n",
    "task = 'classification'\n",
    "manifest = f'MRI_dataset_{task}.csv'\n",
    "\n",
    "data = MRIDataModule(\n",
    "    dataset_path=db_path,\n",
    "    manifest_filename=manifest,\n",
    "    batch_size=4,\n",
    "    task=task,\n",
    "    crop_size=None,\n",
    "    train_val_test_shuffle=(True, False, False),\n",
    "    train_val_test_split=(0.8,0.1,0.1),\n",
    "    seed=23,\n",
    "    verbose=True,\n",
    "    normalization='max',\n",
    "    num_workers=None,\n",
    ")"
   ],
   "id": "1c57676247ca5496",
   "outputs": [
    {
     "name": "stdout",
     "output_type": "stream",
     "text": [
      "trainset size: 800\n",
      "validation size: 95\n",
      "testset size: 105\n"
     ]
    }
   ],
   "execution_count": 5
  },
  {
   "metadata": {},
   "cell_type": "markdown",
   "source": "### Entraînement du modèle :",
   "id": "d46e413ae0a7ded6"
  },
  {
   "metadata": {
    "ExecuteTime": {
     "end_time": "2024-09-23T10:33:01.690407Z",
     "start_time": "2024-09-23T10:14:31.756312Z"
    }
   },
   "cell_type": "code",
   "source": "trainer.fit(model, data)",
   "id": "e812fde25f8824af",
   "outputs": [
    {
     "name": "stderr",
     "output_type": "stream",
     "text": [
      "C:\\Users\\M105411\\AppData\\Roaming\\Python\\Python310\\site-packages\\lightning\\pytorch\\callbacks\\model_checkpoint.py:652: Checkpoint directory C:\\Users\\M105411\\Documents\\IA_Med_Im\\IA_Med_Im_PyTorch\\Modèle1\\Partie1 - GBM et RT conventionnelle\\ResNet_classication_2classes\\checkpoints3 exists and is not empty.\n",
      "LOCAL_RANK: 0 - CUDA_VISIBLE_DEVICES: [0,1]\n"
     ]
    },
    {
     "name": "stdout",
     "output_type": "stream",
     "text": [
      "trainset size: 830\n",
      "validation size: 110\n",
      "testset size: 60\n"
     ]
    },
    {
     "name": "stderr",
     "output_type": "stream",
     "text": [
      "\n",
      "  | Name       | Type              | Params | Mode \n",
      "---------------------------------------------------------\n",
      "0 | model      | ByobNet           | 33.7 M | train\n",
      "1 | loss_train | BCEWithLogitsLoss | 0      | train\n",
      "2 | loss_val   | BCEWithLogitsLoss | 0      | train\n",
      "3 | loss_test  | BCEWithLogitsLoss | 0      | train\n",
      "4 | train_acc  | BinaryAccuracy    | 0      | train\n",
      "5 | valid_acc  | BinaryAccuracy    | 0      | train\n",
      "6 | test_acc   | BinaryAccuracy    | 0      | train\n",
      "---------------------------------------------------------\n",
      "33.7 M    Trainable params\n",
      "0         Non-trainable params\n",
      "33.7 M    Total params\n",
      "134.607   Total estimated model params size (MB)\n"
     ]
    },
    {
     "data": {
      "text/plain": [
       "Sanity Checking: |          | 0/? [00:00<?, ?it/s]"
      ],
      "application/vnd.jupyter.widget-view+json": {
       "version_major": 2,
       "version_minor": 0,
       "model_id": "09f05c4e920d4cc8bfd55a6925a00ca2"
      }
     },
     "metadata": {},
     "output_type": "display_data"
    },
    {
     "name": "stderr",
     "output_type": "stream",
     "text": [
      "C:\\Users\\M105411\\AppData\\Roaming\\Python\\Python310\\site-packages\\lightning\\pytorch\\trainer\\connectors\\data_connector.py:424: The 'val_dataloader' does not have many workers which may be a bottleneck. Consider increasing the value of the `num_workers` argument` to `num_workers=23` in the `DataLoader` to improve performance.\n",
      "C:\\Users\\M105411\\AppData\\Roaming\\Python\\Python310\\site-packages\\lightning\\pytorch\\trainer\\connectors\\data_connector.py:424: The 'train_dataloader' does not have many workers which may be a bottleneck. Consider increasing the value of the `num_workers` argument` to `num_workers=23` in the `DataLoader` to improve performance.\n"
     ]
    },
    {
     "data": {
      "text/plain": [
       "Training: |          | 0/? [00:00<?, ?it/s]"
      ],
      "application/vnd.jupyter.widget-view+json": {
       "version_major": 2,
       "version_minor": 0,
       "model_id": "b7b80bfc43234082abe33aa82b841215"
      }
     },
     "metadata": {},
     "output_type": "display_data"
    },
    {
     "data": {
      "text/plain": [
       "Validation: |          | 0/? [00:00<?, ?it/s]"
      ],
      "application/vnd.jupyter.widget-view+json": {
       "version_major": 2,
       "version_minor": 0,
       "model_id": "1d120dfe77da42e4af8fb64f0e8d4421"
      }
     },
     "metadata": {},
     "output_type": "display_data"
    },
    {
     "name": "stderr",
     "output_type": "stream",
     "text": [
      "Metric val/loss improved. New best score: 0.569\n"
     ]
    },
    {
     "data": {
      "text/plain": [
       "Validation: |          | 0/? [00:00<?, ?it/s]"
      ],
      "application/vnd.jupyter.widget-view+json": {
       "version_major": 2,
       "version_minor": 0,
       "model_id": "3d51ceccd6a34f648771c7c734361673"
      }
     },
     "metadata": {},
     "output_type": "display_data"
    },
    {
     "name": "stderr",
     "output_type": "stream",
     "text": [
      "Metric val/loss improved by 0.038 >= min_delta = 0.0. New best score: 0.531\n"
     ]
    },
    {
     "data": {
      "text/plain": [
       "Validation: |          | 0/? [00:00<?, ?it/s]"
      ],
      "application/vnd.jupyter.widget-view+json": {
       "version_major": 2,
       "version_minor": 0,
       "model_id": "7e1db7beb33b452c95ce89f3efc45df7"
      }
     },
     "metadata": {},
     "output_type": "display_data"
    },
    {
     "data": {
      "text/plain": [
       "Validation: |          | 0/? [00:00<?, ?it/s]"
      ],
      "application/vnd.jupyter.widget-view+json": {
       "version_major": 2,
       "version_minor": 0,
       "model_id": "6be412226fc34b88992ae85e49825648"
      }
     },
     "metadata": {},
     "output_type": "display_data"
    },
    {
     "data": {
      "text/plain": [
       "Validation: |          | 0/? [00:00<?, ?it/s]"
      ],
      "application/vnd.jupyter.widget-view+json": {
       "version_major": 2,
       "version_minor": 0,
       "model_id": "021fe0e8001742e0bda5e8849936f9c4"
      }
     },
     "metadata": {},
     "output_type": "display_data"
    },
    {
     "data": {
      "text/plain": [
       "Validation: |          | 0/? [00:00<?, ?it/s]"
      ],
      "application/vnd.jupyter.widget-view+json": {
       "version_major": 2,
       "version_minor": 0,
       "model_id": "004fee072a7e4b43ace16e9ca3bcc36e"
      }
     },
     "metadata": {},
     "output_type": "display_data"
    },
    {
     "data": {
      "text/plain": [
       "Validation: |          | 0/? [00:00<?, ?it/s]"
      ],
      "application/vnd.jupyter.widget-view+json": {
       "version_major": 2,
       "version_minor": 0,
       "model_id": "cba221f716ad47e8ad915dec9e0d3ecd"
      }
     },
     "metadata": {},
     "output_type": "display_data"
    },
    {
     "name": "stderr",
     "output_type": "stream",
     "text": [
      "Metric val/loss improved by 0.000 >= min_delta = 0.0. New best score: 0.531\n"
     ]
    },
    {
     "data": {
      "text/plain": [
       "Validation: |          | 0/? [00:00<?, ?it/s]"
      ],
      "application/vnd.jupyter.widget-view+json": {
       "version_major": 2,
       "version_minor": 0,
       "model_id": "fc19099646e0454eae2e32c453e20d2b"
      }
     },
     "metadata": {},
     "output_type": "display_data"
    },
    {
     "data": {
      "text/plain": [
       "Validation: |          | 0/? [00:00<?, ?it/s]"
      ],
      "application/vnd.jupyter.widget-view+json": {
       "version_major": 2,
       "version_minor": 0,
       "model_id": "249ca4306ad847dc918e22c9fe901d81"
      }
     },
     "metadata": {},
     "output_type": "display_data"
    },
    {
     "data": {
      "text/plain": [
       "Validation: |          | 0/? [00:00<?, ?it/s]"
      ],
      "application/vnd.jupyter.widget-view+json": {
       "version_major": 2,
       "version_minor": 0,
       "model_id": "2f79e92e11f346e48f159a474cc1b17b"
      }
     },
     "metadata": {},
     "output_type": "display_data"
    },
    {
     "data": {
      "text/plain": [
       "Validation: |          | 0/? [00:00<?, ?it/s]"
      ],
      "application/vnd.jupyter.widget-view+json": {
       "version_major": 2,
       "version_minor": 0,
       "model_id": "8b845909ee184ec492ee3a7aaf116988"
      }
     },
     "metadata": {},
     "output_type": "display_data"
    },
    {
     "data": {
      "text/plain": [
       "Validation: |          | 0/? [00:00<?, ?it/s]"
      ],
      "application/vnd.jupyter.widget-view+json": {
       "version_major": 2,
       "version_minor": 0,
       "model_id": "24e08cc6ff024e8bbf3564a282837438"
      }
     },
     "metadata": {},
     "output_type": "display_data"
    },
    {
     "name": "stderr",
     "output_type": "stream",
     "text": [
      "C:\\Users\\M105411\\AppData\\Roaming\\Python\\Python310\\site-packages\\lightning\\pytorch\\trainer\\call.py:54: Detected KeyboardInterrupt, attempting graceful shutdown...\n"
     ]
    }
   ],
   "execution_count": 6
  },
  {
   "metadata": {
    "ExecuteTime": {
     "end_time": "2024-09-23T10:33:03.399220Z",
     "start_time": "2024-09-23T10:33:01.690407Z"
    }
   },
   "cell_type": "code",
   "source": [
    "best_model_path = checkpoint_callback.best_model_path\n",
    "best_model = MyModel.load_from_checkpoint(best_model_path)\n",
    "best_model.eval()"
   ],
   "id": "91c8e93634944da4",
   "outputs": [
    {
     "name": "stdout",
     "output_type": "stream",
     "text": [
      "C:\\Users\\M105411\\Documents\\IA_Med_Im\\IA_Med_Im_PyTorch\\Modèle1\\Partie1 - GBM et RT conventionnelle\\ResNet_classication_2classes\\checkpoints3\\best_model-v1.ckpt\n"
     ]
    },
    {
     "data": {
      "text/plain": [
       "MyModel(\n",
       "  (model): ByobNet(\n",
       "    (stem): Stem(\n",
       "      (conv1): Conv2d(1, 16, kernel_size=(3, 3), stride=(2, 2), padding=(1, 1), bias=False)\n",
       "      (conv2): Conv2d(16, 32, kernel_size=(3, 3), stride=(1, 1), padding=(1, 1), bias=False)\n",
       "      (conv3): ConvNormAct(\n",
       "        (conv): Conv2d(32, 64, kernel_size=(3, 3), stride=(1, 1), padding=(1, 1), bias=False)\n",
       "        (bn): BatchNormAct2d(\n",
       "          64, eps=1e-05, momentum=0.1, affine=True, track_running_stats=True\n",
       "          (drop): Identity()\n",
       "          (act): SiLU(inplace=True)\n",
       "        )\n",
       "      )\n",
       "      (conv4): ConvNormAct(\n",
       "        (conv): Conv2d(64, 128, kernel_size=(3, 3), stride=(2, 2), padding=(1, 1), bias=False)\n",
       "        (bn): BatchNormAct2d(\n",
       "          128, eps=1e-05, momentum=0.1, affine=True, track_running_stats=True\n",
       "          (drop): Identity()\n",
       "          (act): SiLU(inplace=True)\n",
       "        )\n",
       "      )\n",
       "    )\n",
       "    (stages): Sequential(\n",
       "      (0): Sequential(\n",
       "        (0): BottleneckBlock(\n",
       "          (shortcut): ConvNormAct(\n",
       "            (conv): Conv2d(128, 256, kernel_size=(1, 1), stride=(1, 1), bias=False)\n",
       "            (bn): BatchNormAct2d(\n",
       "              256, eps=1e-05, momentum=0.1, affine=True, track_running_stats=True\n",
       "              (drop): Identity()\n",
       "              (act): Identity()\n",
       "            )\n",
       "          )\n",
       "          (conv1_1x1): ConvNormAct(\n",
       "            (conv): Conv2d(128, 64, kernel_size=(1, 1), stride=(1, 1), bias=False)\n",
       "            (bn): BatchNormAct2d(\n",
       "              64, eps=1e-05, momentum=0.1, affine=True, track_running_stats=True\n",
       "              (drop): Identity()\n",
       "              (act): SiLU(inplace=True)\n",
       "            )\n",
       "          )\n",
       "          (conv2_kxk): ConvNormAct(\n",
       "            (conv): Conv2d(64, 64, kernel_size=(3, 3), stride=(1, 1), padding=(1, 1), groups=2, bias=False)\n",
       "            (bn): BatchNormAct2d(\n",
       "              64, eps=1e-05, momentum=0.1, affine=True, track_running_stats=True\n",
       "              (drop): Identity()\n",
       "              (act): SiLU(inplace=True)\n",
       "            )\n",
       "          )\n",
       "          (conv2b_kxk): Identity()\n",
       "          (attn): Identity()\n",
       "          (conv3_1x1): ConvNormAct(\n",
       "            (conv): Conv2d(64, 256, kernel_size=(1, 1), stride=(1, 1), bias=False)\n",
       "            (bn): BatchNormAct2d(\n",
       "              256, eps=1e-05, momentum=0.1, affine=True, track_running_stats=True\n",
       "              (drop): Identity()\n",
       "              (act): Identity()\n",
       "            )\n",
       "          )\n",
       "          (attn_last): Identity()\n",
       "          (drop_path): Identity()\n",
       "          (act): SiLU(inplace=True)\n",
       "        )\n",
       "        (1): BottleneckBlock(\n",
       "          (shortcut): Identity()\n",
       "          (conv1_1x1): ConvNormAct(\n",
       "            (conv): Conv2d(256, 64, kernel_size=(1, 1), stride=(1, 1), bias=False)\n",
       "            (bn): BatchNormAct2d(\n",
       "              64, eps=1e-05, momentum=0.1, affine=True, track_running_stats=True\n",
       "              (drop): Identity()\n",
       "              (act): SiLU(inplace=True)\n",
       "            )\n",
       "          )\n",
       "          (conv2_kxk): ConvNormAct(\n",
       "            (conv): Conv2d(64, 64, kernel_size=(3, 3), stride=(1, 1), padding=(1, 1), groups=2, bias=False)\n",
       "            (bn): BatchNormAct2d(\n",
       "              64, eps=1e-05, momentum=0.1, affine=True, track_running_stats=True\n",
       "              (drop): Identity()\n",
       "              (act): SiLU(inplace=True)\n",
       "            )\n",
       "          )\n",
       "          (conv2b_kxk): Identity()\n",
       "          (attn): Identity()\n",
       "          (conv3_1x1): ConvNormAct(\n",
       "            (conv): Conv2d(64, 256, kernel_size=(1, 1), stride=(1, 1), bias=False)\n",
       "            (bn): BatchNormAct2d(\n",
       "              256, eps=1e-05, momentum=0.1, affine=True, track_running_stats=True\n",
       "              (drop): Identity()\n",
       "              (act): Identity()\n",
       "            )\n",
       "          )\n",
       "          (attn_last): Identity()\n",
       "          (drop_path): Identity()\n",
       "          (act): SiLU(inplace=True)\n",
       "        )\n",
       "      )\n",
       "      (1): Sequential(\n",
       "        (0): BottleneckBlock(\n",
       "          (shortcut): ConvNormAct(\n",
       "            (conv): Conv2d(256, 512, kernel_size=(1, 1), stride=(2, 2), bias=False)\n",
       "            (bn): BatchNormAct2d(\n",
       "              512, eps=1e-05, momentum=0.1, affine=True, track_running_stats=True\n",
       "              (drop): Identity()\n",
       "              (act): Identity()\n",
       "            )\n",
       "          )\n",
       "          (conv1_1x1): ConvNormAct(\n",
       "            (conv): Conv2d(256, 128, kernel_size=(1, 1), stride=(1, 1), bias=False)\n",
       "            (bn): BatchNormAct2d(\n",
       "              128, eps=1e-05, momentum=0.1, affine=True, track_running_stats=True\n",
       "              (drop): Identity()\n",
       "              (act): SiLU(inplace=True)\n",
       "            )\n",
       "          )\n",
       "          (conv2_kxk): ConvNormAct(\n",
       "            (conv): Conv2d(128, 128, kernel_size=(3, 3), stride=(2, 2), padding=(1, 1), groups=4, bias=False)\n",
       "            (bn): BatchNormAct2d(\n",
       "              128, eps=1e-05, momentum=0.1, affine=True, track_running_stats=True\n",
       "              (drop): Identity()\n",
       "              (act): SiLU(inplace=True)\n",
       "            )\n",
       "          )\n",
       "          (conv2b_kxk): Identity()\n",
       "          (attn): Identity()\n",
       "          (conv3_1x1): ConvNormAct(\n",
       "            (conv): Conv2d(128, 512, kernel_size=(1, 1), stride=(1, 1), bias=False)\n",
       "            (bn): BatchNormAct2d(\n",
       "              512, eps=1e-05, momentum=0.1, affine=True, track_running_stats=True\n",
       "              (drop): Identity()\n",
       "              (act): Identity()\n",
       "            )\n",
       "          )\n",
       "          (attn_last): Identity()\n",
       "          (drop_path): Identity()\n",
       "          (act): SiLU(inplace=True)\n",
       "        )\n",
       "        (1): BottleneckBlock(\n",
       "          (shortcut): Identity()\n",
       "          (conv1_1x1): ConvNormAct(\n",
       "            (conv): Conv2d(512, 128, kernel_size=(1, 1), stride=(1, 1), bias=False)\n",
       "            (bn): BatchNormAct2d(\n",
       "              128, eps=1e-05, momentum=0.1, affine=True, track_running_stats=True\n",
       "              (drop): Identity()\n",
       "              (act): SiLU(inplace=True)\n",
       "            )\n",
       "          )\n",
       "          (conv2_kxk): ConvNormAct(\n",
       "            (conv): Conv2d(128, 128, kernel_size=(3, 3), stride=(1, 1), padding=(1, 1), groups=4, bias=False)\n",
       "            (bn): BatchNormAct2d(\n",
       "              128, eps=1e-05, momentum=0.1, affine=True, track_running_stats=True\n",
       "              (drop): Identity()\n",
       "              (act): SiLU(inplace=True)\n",
       "            )\n",
       "          )\n",
       "          (conv2b_kxk): Identity()\n",
       "          (attn): Identity()\n",
       "          (conv3_1x1): ConvNormAct(\n",
       "            (conv): Conv2d(128, 512, kernel_size=(1, 1), stride=(1, 1), bias=False)\n",
       "            (bn): BatchNormAct2d(\n",
       "              512, eps=1e-05, momentum=0.1, affine=True, track_running_stats=True\n",
       "              (drop): Identity()\n",
       "              (act): Identity()\n",
       "            )\n",
       "          )\n",
       "          (attn_last): Identity()\n",
       "          (drop_path): Identity()\n",
       "          (act): SiLU(inplace=True)\n",
       "        )\n",
       "        (2): BottleneckBlock(\n",
       "          (shortcut): Identity()\n",
       "          (conv1_1x1): ConvNormAct(\n",
       "            (conv): Conv2d(512, 128, kernel_size=(1, 1), stride=(1, 1), bias=False)\n",
       "            (bn): BatchNormAct2d(\n",
       "              128, eps=1e-05, momentum=0.1, affine=True, track_running_stats=True\n",
       "              (drop): Identity()\n",
       "              (act): SiLU(inplace=True)\n",
       "            )\n",
       "          )\n",
       "          (conv2_kxk): ConvNormAct(\n",
       "            (conv): Conv2d(128, 128, kernel_size=(3, 3), stride=(1, 1), padding=(1, 1), groups=4, bias=False)\n",
       "            (bn): BatchNormAct2d(\n",
       "              128, eps=1e-05, momentum=0.1, affine=True, track_running_stats=True\n",
       "              (drop): Identity()\n",
       "              (act): SiLU(inplace=True)\n",
       "            )\n",
       "          )\n",
       "          (conv2b_kxk): Identity()\n",
       "          (attn): Identity()\n",
       "          (conv3_1x1): ConvNormAct(\n",
       "            (conv): Conv2d(128, 512, kernel_size=(1, 1), stride=(1, 1), bias=False)\n",
       "            (bn): BatchNormAct2d(\n",
       "              512, eps=1e-05, momentum=0.1, affine=True, track_running_stats=True\n",
       "              (drop): Identity()\n",
       "              (act): Identity()\n",
       "            )\n",
       "          )\n",
       "          (attn_last): Identity()\n",
       "          (drop_path): Identity()\n",
       "          (act): SiLU(inplace=True)\n",
       "        )\n",
       "        (3): BottleneckBlock(\n",
       "          (shortcut): Identity()\n",
       "          (conv1_1x1): ConvNormAct(\n",
       "            (conv): Conv2d(512, 128, kernel_size=(1, 1), stride=(1, 1), bias=False)\n",
       "            (bn): BatchNormAct2d(\n",
       "              128, eps=1e-05, momentum=0.1, affine=True, track_running_stats=True\n",
       "              (drop): Identity()\n",
       "              (act): SiLU(inplace=True)\n",
       "            )\n",
       "          )\n",
       "          (conv2_kxk): ConvNormAct(\n",
       "            (conv): Conv2d(128, 128, kernel_size=(3, 3), stride=(1, 1), padding=(1, 1), groups=4, bias=False)\n",
       "            (bn): BatchNormAct2d(\n",
       "              128, eps=1e-05, momentum=0.1, affine=True, track_running_stats=True\n",
       "              (drop): Identity()\n",
       "              (act): SiLU(inplace=True)\n",
       "            )\n",
       "          )\n",
       "          (conv2b_kxk): Identity()\n",
       "          (attn): Identity()\n",
       "          (conv3_1x1): ConvNormAct(\n",
       "            (conv): Conv2d(128, 512, kernel_size=(1, 1), stride=(1, 1), bias=False)\n",
       "            (bn): BatchNormAct2d(\n",
       "              512, eps=1e-05, momentum=0.1, affine=True, track_running_stats=True\n",
       "              (drop): Identity()\n",
       "              (act): Identity()\n",
       "            )\n",
       "          )\n",
       "          (attn_last): Identity()\n",
       "          (drop_path): Identity()\n",
       "          (act): SiLU(inplace=True)\n",
       "        )\n",
       "      )\n",
       "      (2): Sequential(\n",
       "        (0): BottleneckBlock(\n",
       "          (shortcut): ConvNormAct(\n",
       "            (conv): Conv2d(512, 1536, kernel_size=(1, 1), stride=(2, 2), bias=False)\n",
       "            (bn): BatchNormAct2d(\n",
       "              1536, eps=1e-05, momentum=0.1, affine=True, track_running_stats=True\n",
       "              (drop): Identity()\n",
       "              (act): Identity()\n",
       "            )\n",
       "          )\n",
       "          (conv1_1x1): ConvNormAct(\n",
       "            (conv): Conv2d(512, 384, kernel_size=(1, 1), stride=(1, 1), bias=False)\n",
       "            (bn): BatchNormAct2d(\n",
       "              384, eps=1e-05, momentum=0.1, affine=True, track_running_stats=True\n",
       "              (drop): Identity()\n",
       "              (act): SiLU(inplace=True)\n",
       "            )\n",
       "          )\n",
       "          (conv2_kxk): ConvNormAct(\n",
       "            (conv): Conv2d(384, 384, kernel_size=(3, 3), stride=(2, 2), padding=(1, 1), groups=12, bias=False)\n",
       "            (bn): BatchNormAct2d(\n",
       "              384, eps=1e-05, momentum=0.1, affine=True, track_running_stats=True\n",
       "              (drop): Identity()\n",
       "              (act): SiLU(inplace=True)\n",
       "            )\n",
       "          )\n",
       "          (conv2b_kxk): Identity()\n",
       "          (attn): Identity()\n",
       "          (conv3_1x1): ConvNormAct(\n",
       "            (conv): Conv2d(384, 1536, kernel_size=(1, 1), stride=(1, 1), bias=False)\n",
       "            (bn): BatchNormAct2d(\n",
       "              1536, eps=1e-05, momentum=0.1, affine=True, track_running_stats=True\n",
       "              (drop): Identity()\n",
       "              (act): Identity()\n",
       "            )\n",
       "          )\n",
       "          (attn_last): Identity()\n",
       "          (drop_path): Identity()\n",
       "          (act): SiLU(inplace=True)\n",
       "        )\n",
       "        (1): BottleneckBlock(\n",
       "          (shortcut): Identity()\n",
       "          (conv1_1x1): ConvNormAct(\n",
       "            (conv): Conv2d(1536, 384, kernel_size=(1, 1), stride=(1, 1), bias=False)\n",
       "            (bn): BatchNormAct2d(\n",
       "              384, eps=1e-05, momentum=0.1, affine=True, track_running_stats=True\n",
       "              (drop): Identity()\n",
       "              (act): SiLU(inplace=True)\n",
       "            )\n",
       "          )\n",
       "          (conv2_kxk): ConvNormAct(\n",
       "            (conv): Conv2d(384, 384, kernel_size=(3, 3), stride=(1, 1), padding=(1, 1), groups=12, bias=False)\n",
       "            (bn): BatchNormAct2d(\n",
       "              384, eps=1e-05, momentum=0.1, affine=True, track_running_stats=True\n",
       "              (drop): Identity()\n",
       "              (act): SiLU(inplace=True)\n",
       "            )\n",
       "          )\n",
       "          (conv2b_kxk): Identity()\n",
       "          (attn): Identity()\n",
       "          (conv3_1x1): ConvNormAct(\n",
       "            (conv): Conv2d(384, 1536, kernel_size=(1, 1), stride=(1, 1), bias=False)\n",
       "            (bn): BatchNormAct2d(\n",
       "              1536, eps=1e-05, momentum=0.1, affine=True, track_running_stats=True\n",
       "              (drop): Identity()\n",
       "              (act): Identity()\n",
       "            )\n",
       "          )\n",
       "          (attn_last): Identity()\n",
       "          (drop_path): Identity()\n",
       "          (act): SiLU(inplace=True)\n",
       "        )\n",
       "        (2): BottleneckBlock(\n",
       "          (shortcut): Identity()\n",
       "          (conv1_1x1): ConvNormAct(\n",
       "            (conv): Conv2d(1536, 384, kernel_size=(1, 1), stride=(1, 1), bias=False)\n",
       "            (bn): BatchNormAct2d(\n",
       "              384, eps=1e-05, momentum=0.1, affine=True, track_running_stats=True\n",
       "              (drop): Identity()\n",
       "              (act): SiLU(inplace=True)\n",
       "            )\n",
       "          )\n",
       "          (conv2_kxk): ConvNormAct(\n",
       "            (conv): Conv2d(384, 384, kernel_size=(3, 3), stride=(1, 1), padding=(1, 1), groups=12, bias=False)\n",
       "            (bn): BatchNormAct2d(\n",
       "              384, eps=1e-05, momentum=0.1, affine=True, track_running_stats=True\n",
       "              (drop): Identity()\n",
       "              (act): SiLU(inplace=True)\n",
       "            )\n",
       "          )\n",
       "          (conv2b_kxk): Identity()\n",
       "          (attn): Identity()\n",
       "          (conv3_1x1): ConvNormAct(\n",
       "            (conv): Conv2d(384, 1536, kernel_size=(1, 1), stride=(1, 1), bias=False)\n",
       "            (bn): BatchNormAct2d(\n",
       "              1536, eps=1e-05, momentum=0.1, affine=True, track_running_stats=True\n",
       "              (drop): Identity()\n",
       "              (act): Identity()\n",
       "            )\n",
       "          )\n",
       "          (attn_last): Identity()\n",
       "          (drop_path): Identity()\n",
       "          (act): SiLU(inplace=True)\n",
       "        )\n",
       "        (3): BottleneckBlock(\n",
       "          (shortcut): Identity()\n",
       "          (conv1_1x1): ConvNormAct(\n",
       "            (conv): Conv2d(1536, 384, kernel_size=(1, 1), stride=(1, 1), bias=False)\n",
       "            (bn): BatchNormAct2d(\n",
       "              384, eps=1e-05, momentum=0.1, affine=True, track_running_stats=True\n",
       "              (drop): Identity()\n",
       "              (act): SiLU(inplace=True)\n",
       "            )\n",
       "          )\n",
       "          (conv2_kxk): ConvNormAct(\n",
       "            (conv): Conv2d(384, 384, kernel_size=(3, 3), stride=(1, 1), padding=(1, 1), groups=12, bias=False)\n",
       "            (bn): BatchNormAct2d(\n",
       "              384, eps=1e-05, momentum=0.1, affine=True, track_running_stats=True\n",
       "              (drop): Identity()\n",
       "              (act): SiLU(inplace=True)\n",
       "            )\n",
       "          )\n",
       "          (conv2b_kxk): Identity()\n",
       "          (attn): Identity()\n",
       "          (conv3_1x1): ConvNormAct(\n",
       "            (conv): Conv2d(384, 1536, kernel_size=(1, 1), stride=(1, 1), bias=False)\n",
       "            (bn): BatchNormAct2d(\n",
       "              1536, eps=1e-05, momentum=0.1, affine=True, track_running_stats=True\n",
       "              (drop): Identity()\n",
       "              (act): Identity()\n",
       "            )\n",
       "          )\n",
       "          (attn_last): Identity()\n",
       "          (drop_path): Identity()\n",
       "          (act): SiLU(inplace=True)\n",
       "        )\n",
       "        (4): BottleneckBlock(\n",
       "          (shortcut): Identity()\n",
       "          (conv1_1x1): ConvNormAct(\n",
       "            (conv): Conv2d(1536, 384, kernel_size=(1, 1), stride=(1, 1), bias=False)\n",
       "            (bn): BatchNormAct2d(\n",
       "              384, eps=1e-05, momentum=0.1, affine=True, track_running_stats=True\n",
       "              (drop): Identity()\n",
       "              (act): SiLU(inplace=True)\n",
       "            )\n",
       "          )\n",
       "          (conv2_kxk): ConvNormAct(\n",
       "            (conv): Conv2d(384, 384, kernel_size=(3, 3), stride=(1, 1), padding=(1, 1), groups=12, bias=False)\n",
       "            (bn): BatchNormAct2d(\n",
       "              384, eps=1e-05, momentum=0.1, affine=True, track_running_stats=True\n",
       "              (drop): Identity()\n",
       "              (act): SiLU(inplace=True)\n",
       "            )\n",
       "          )\n",
       "          (conv2b_kxk): Identity()\n",
       "          (attn): Identity()\n",
       "          (conv3_1x1): ConvNormAct(\n",
       "            (conv): Conv2d(384, 1536, kernel_size=(1, 1), stride=(1, 1), bias=False)\n",
       "            (bn): BatchNormAct2d(\n",
       "              1536, eps=1e-05, momentum=0.1, affine=True, track_running_stats=True\n",
       "              (drop): Identity()\n",
       "              (act): Identity()\n",
       "            )\n",
       "          )\n",
       "          (attn_last): Identity()\n",
       "          (drop_path): Identity()\n",
       "          (act): SiLU(inplace=True)\n",
       "        )\n",
       "        (5): BottleneckBlock(\n",
       "          (shortcut): Identity()\n",
       "          (conv1_1x1): ConvNormAct(\n",
       "            (conv): Conv2d(1536, 384, kernel_size=(1, 1), stride=(1, 1), bias=False)\n",
       "            (bn): BatchNormAct2d(\n",
       "              384, eps=1e-05, momentum=0.1, affine=True, track_running_stats=True\n",
       "              (drop): Identity()\n",
       "              (act): SiLU(inplace=True)\n",
       "            )\n",
       "          )\n",
       "          (conv2_kxk): ConvNormAct(\n",
       "            (conv): Conv2d(384, 384, kernel_size=(3, 3), stride=(1, 1), padding=(1, 1), groups=12, bias=False)\n",
       "            (bn): BatchNormAct2d(\n",
       "              384, eps=1e-05, momentum=0.1, affine=True, track_running_stats=True\n",
       "              (drop): Identity()\n",
       "              (act): SiLU(inplace=True)\n",
       "            )\n",
       "          )\n",
       "          (conv2b_kxk): Identity()\n",
       "          (attn): Identity()\n",
       "          (conv3_1x1): ConvNormAct(\n",
       "            (conv): Conv2d(384, 1536, kernel_size=(1, 1), stride=(1, 1), bias=False)\n",
       "            (bn): BatchNormAct2d(\n",
       "              1536, eps=1e-05, momentum=0.1, affine=True, track_running_stats=True\n",
       "              (drop): Identity()\n",
       "              (act): Identity()\n",
       "            )\n",
       "          )\n",
       "          (attn_last): Identity()\n",
       "          (drop_path): Identity()\n",
       "          (act): SiLU(inplace=True)\n",
       "        )\n",
       "      )\n",
       "      (3): Sequential(\n",
       "        (0): BottleneckBlock(\n",
       "          (shortcut): ConvNormAct(\n",
       "            (conv): Conv2d(1536, 1536, kernel_size=(1, 1), stride=(2, 2), bias=False)\n",
       "            (bn): BatchNormAct2d(\n",
       "              1536, eps=1e-05, momentum=0.1, affine=True, track_running_stats=True\n",
       "              (drop): Identity()\n",
       "              (act): Identity()\n",
       "            )\n",
       "          )\n",
       "          (conv1_1x1): ConvNormAct(\n",
       "            (conv): Conv2d(1536, 1536, kernel_size=(1, 1), stride=(1, 1), bias=False)\n",
       "            (bn): BatchNormAct2d(\n",
       "              1536, eps=1e-05, momentum=0.1, affine=True, track_running_stats=True\n",
       "              (drop): Identity()\n",
       "              (act): SiLU(inplace=True)\n",
       "            )\n",
       "          )\n",
       "          (conv2_kxk): ConvNormAct(\n",
       "            (conv): Conv2d(1536, 1536, kernel_size=(3, 3), stride=(2, 2), padding=(1, 1), groups=1536, bias=False)\n",
       "            (bn): BatchNormAct2d(\n",
       "              1536, eps=1e-05, momentum=0.1, affine=True, track_running_stats=True\n",
       "              (drop): Identity()\n",
       "              (act): SiLU(inplace=True)\n",
       "            )\n",
       "          )\n",
       "          (conv2b_kxk): Identity()\n",
       "          (attn): Identity()\n",
       "          (conv3_1x1): ConvNormAct(\n",
       "            (conv): Conv2d(1536, 1536, kernel_size=(1, 1), stride=(1, 1), bias=False)\n",
       "            (bn): BatchNormAct2d(\n",
       "              1536, eps=1e-05, momentum=0.1, affine=True, track_running_stats=True\n",
       "              (drop): Identity()\n",
       "              (act): Identity()\n",
       "            )\n",
       "          )\n",
       "          (attn_last): Identity()\n",
       "          (drop_path): Identity()\n",
       "          (act): SiLU(inplace=True)\n",
       "        )\n",
       "        (1): BottleneckBlock(\n",
       "          (shortcut): Identity()\n",
       "          (conv1_1x1): ConvNormAct(\n",
       "            (conv): Conv2d(1536, 1536, kernel_size=(1, 1), stride=(1, 1), bias=False)\n",
       "            (bn): BatchNormAct2d(\n",
       "              1536, eps=1e-05, momentum=0.1, affine=True, track_running_stats=True\n",
       "              (drop): Identity()\n",
       "              (act): SiLU(inplace=True)\n",
       "            )\n",
       "          )\n",
       "          (conv2_kxk): ConvNormAct(\n",
       "            (conv): Conv2d(1536, 1536, kernel_size=(3, 3), stride=(1, 1), padding=(1, 1), groups=1536, bias=False)\n",
       "            (bn): BatchNormAct2d(\n",
       "              1536, eps=1e-05, momentum=0.1, affine=True, track_running_stats=True\n",
       "              (drop): Identity()\n",
       "              (act): SiLU(inplace=True)\n",
       "            )\n",
       "          )\n",
       "          (conv2b_kxk): Identity()\n",
       "          (attn): Identity()\n",
       "          (conv3_1x1): ConvNormAct(\n",
       "            (conv): Conv2d(1536, 1536, kernel_size=(1, 1), stride=(1, 1), bias=False)\n",
       "            (bn): BatchNormAct2d(\n",
       "              1536, eps=1e-05, momentum=0.1, affine=True, track_running_stats=True\n",
       "              (drop): Identity()\n",
       "              (act): Identity()\n",
       "            )\n",
       "          )\n",
       "          (attn_last): Identity()\n",
       "          (drop_path): Identity()\n",
       "          (act): SiLU(inplace=True)\n",
       "        )\n",
       "        (2): BottleneckBlock(\n",
       "          (shortcut): Identity()\n",
       "          (conv1_1x1): ConvNormAct(\n",
       "            (conv): Conv2d(1536, 1536, kernel_size=(1, 1), stride=(1, 1), bias=False)\n",
       "            (bn): BatchNormAct2d(\n",
       "              1536, eps=1e-05, momentum=0.1, affine=True, track_running_stats=True\n",
       "              (drop): Identity()\n",
       "              (act): SiLU(inplace=True)\n",
       "            )\n",
       "          )\n",
       "          (conv2_kxk): ConvNormAct(\n",
       "            (conv): Conv2d(1536, 1536, kernel_size=(3, 3), stride=(1, 1), padding=(1, 1), groups=1536, bias=False)\n",
       "            (bn): BatchNormAct2d(\n",
       "              1536, eps=1e-05, momentum=0.1, affine=True, track_running_stats=True\n",
       "              (drop): Identity()\n",
       "              (act): SiLU(inplace=True)\n",
       "            )\n",
       "          )\n",
       "          (conv2b_kxk): Identity()\n",
       "          (attn): Identity()\n",
       "          (conv3_1x1): ConvNormAct(\n",
       "            (conv): Conv2d(1536, 1536, kernel_size=(1, 1), stride=(1, 1), bias=False)\n",
       "            (bn): BatchNormAct2d(\n",
       "              1536, eps=1e-05, momentum=0.1, affine=True, track_running_stats=True\n",
       "              (drop): Identity()\n",
       "              (act): Identity()\n",
       "            )\n",
       "          )\n",
       "          (attn_last): Identity()\n",
       "          (drop_path): Identity()\n",
       "          (act): SiLU(inplace=True)\n",
       "        )\n",
       "        (3): BottleneckBlock(\n",
       "          (shortcut): Identity()\n",
       "          (conv1_1x1): ConvNormAct(\n",
       "            (conv): Conv2d(1536, 1536, kernel_size=(1, 1), stride=(1, 1), bias=False)\n",
       "            (bn): BatchNormAct2d(\n",
       "              1536, eps=1e-05, momentum=0.1, affine=True, track_running_stats=True\n",
       "              (drop): Identity()\n",
       "              (act): SiLU(inplace=True)\n",
       "            )\n",
       "          )\n",
       "          (conv2_kxk): ConvNormAct(\n",
       "            (conv): Conv2d(1536, 1536, kernel_size=(3, 3), stride=(1, 1), padding=(1, 1), groups=1536, bias=False)\n",
       "            (bn): BatchNormAct2d(\n",
       "              1536, eps=1e-05, momentum=0.1, affine=True, track_running_stats=True\n",
       "              (drop): Identity()\n",
       "              (act): SiLU(inplace=True)\n",
       "            )\n",
       "          )\n",
       "          (conv2b_kxk): Identity()\n",
       "          (attn): Identity()\n",
       "          (conv3_1x1): ConvNormAct(\n",
       "            (conv): Conv2d(1536, 1536, kernel_size=(1, 1), stride=(1, 1), bias=False)\n",
       "            (bn): BatchNormAct2d(\n",
       "              1536, eps=1e-05, momentum=0.1, affine=True, track_running_stats=True\n",
       "              (drop): Identity()\n",
       "              (act): Identity()\n",
       "            )\n",
       "          )\n",
       "          (attn_last): Identity()\n",
       "          (drop_path): Identity()\n",
       "          (act): SiLU(inplace=True)\n",
       "        )\n",
       "      )\n",
       "    )\n",
       "    (final_conv): ConvNormAct(\n",
       "      (conv): Conv2d(1536, 2048, kernel_size=(1, 1), stride=(1, 1), bias=False)\n",
       "      (bn): BatchNormAct2d(\n",
       "        2048, eps=1e-05, momentum=0.1, affine=True, track_running_stats=True\n",
       "        (drop): Identity()\n",
       "        (act): SiLU(inplace=True)\n",
       "      )\n",
       "    )\n",
       "    (head): ClassifierHead(\n",
       "      (global_pool): SelectAdaptivePool2d(pool_type=avg, flatten=Flatten(start_dim=1, end_dim=-1))\n",
       "      (drop): Dropout(p=0.0, inplace=False)\n",
       "      (fc): Linear(in_features=2048, out_features=1, bias=True)\n",
       "      (flatten): Identity()\n",
       "    )\n",
       "    (fc): Linear(in_features=2048, out_features=1, bias=True)\n",
       "  )\n",
       "  (loss_train): BCEWithLogitsLoss()\n",
       "  (loss_val): BCEWithLogitsLoss()\n",
       "  (loss_test): BCEWithLogitsLoss()\n",
       "  (train_acc): BinaryAccuracy()\n",
       "  (valid_acc): BinaryAccuracy()\n",
       "  (test_acc): BinaryAccuracy()\n",
       ")"
      ]
     },
     "execution_count": 7,
     "metadata": {},
     "output_type": "execute_result"
    }
   ],
   "execution_count": 7
  },
  {
   "metadata": {},
   "cell_type": "markdown",
   "source": "### Création de la matrice de confusion : ",
   "id": "3670d4165e8e75bc"
  },
  {
   "metadata": {
    "ExecuteTime": {
     "end_time": "2024-09-23T10:12:22.521374Z",
     "start_time": "2024-09-23T10:12:18.698157Z"
    }
   },
   "cell_type": "code",
   "source": [
    "val_data = data.test_dataloader() \n",
    " \n",
    "val_labels = []\n",
    "val_preds  = []\n",
    "val_probs  = []  \n",
    " \n",
    "with torch.no_grad():\n",
    "    for batch in val_data:\n",
    "        x, y = batch\n",
    "        x, y = x.to(best_model.device), y.to(best_model.device)\n",
    "        preds = best_model(x)\n",
    "        val_labels.append(y.cpu())\n",
    "        val_preds.append((torch.sigmoid(preds).squeeze() >= 0.60).cpu())\n",
    "        val_probs.append(torch.sigmoid(preds).cpu())  \n",
    "\n",
    "val_labels = torch.cat(val_labels)\n",
    "val_preds  = torch.cat(val_preds)\n",
    "val_probs  = torch.cat(val_probs)  \n",
    " \n",
    "# Calculer et afficher la matrice de confusion\n",
    "cm = confusion_matrix(val_labels, val_preds, labels=[0, 1])\n",
    "fig, ax = plt.subplots(figsize=(8,6))\n",
    "sns.heatmap(cm, annot=True, fmt='d', cmap='Blues', ax=ax,\n",
    "            xticklabels=[0, 1],\n",
    "            yticklabels=[0, 1])\n",
    "ax.set_xlabel('Predicted labels')\n",
    "ax.set_ylabel('True labels')\n",
    "ax.set_title('Confusion Matrix for the best model : Test (threshold = 0.60)')\n",
    "plt.savefig('best_model_confusion_matrix_test.png')\n",
    "plt.show()"
   ],
   "id": "248d3cd8d283107b",
   "outputs": [
    {
     "data": {
      "text/plain": [
       "<Figure size 800x600 with 2 Axes>"
      ],
      "image/png": "[encoded data removed]"
     },
     "metadata": {},
     "output_type": "display_data"
    }
   ],
   "execution_count": 23
  },
  {
   "metadata": {},
   "cell_type": "code",
   "outputs": [],
   "execution_count": null,
   "source": "",
   "id": "eced455217089ba4"
  }
 ],
 "metadata": {
  "kernelspec": {
   "display_name": "Python 3",
   "language": "python",
   "name": "python3"
  },
  "language_info": {
   "codemirror_mode": {
    "name": "ipython",
    "version": 2
   },
   "file_extension": ".py",
   "mimetype": "text/x-python",
   "name": "python",
   "nbconvert_exporter": "python",
   "pygments_lexer": "ipython2",
   "version": "2.7.6"
  }
 },
 "nbformat": 4,
 "nbformat_minor": 5
}
